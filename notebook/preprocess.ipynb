{
 "cells": [
  {
   "cell_type": "code",
   "execution_count": 1,
   "metadata": {},
   "outputs": [
    {
     "name": "stderr",
     "output_type": "stream",
     "text": [
      "/Users/chi/.pyenv/versions/anaconda3-5.1.0/lib/python3.6/site-packages/h5py/__init__.py:36: FutureWarning: Conversion of the second argument of issubdtype from `float` to `np.floating` is deprecated. In future, it will be treated as `np.float64 == np.dtype(float).type`.\n",
      "  from ._conv import register_converters as _register_converters\n"
     ]
    }
   ],
   "source": [
    "import pandas as pd\n",
    "import sys\n",
    "sys.path.append('../src')\n",
    "from data_helpers import load_data_and_labels\n",
    "from preprocess import load_data\n",
    "from preprocess import create_vocabulary, vectorize_features\n",
    "from preprocess import embedding_words_with_pretrained_model\n",
    "from tensorflow.contrib import learn\n",
    "import pickle"
   ]
  },
  {
   "cell_type": "markdown",
   "metadata": {},
   "source": [
    "# Read Data"
   ]
  },
  {
   "cell_type": "code",
   "execution_count": 2,
   "metadata": {},
   "outputs": [],
   "source": [
    "tweets = load_data()"
   ]
  },
  {
   "cell_type": "code",
   "execution_count": 3,
   "metadata": {},
   "outputs": [
    {
     "name": "stderr",
     "output_type": "stream",
     "text": [
      "Split sentences: : 100%|██████████| 51088/51088 [00:54<00:00, 932.48it/s] \n"
     ]
    }
   ],
   "source": [
    "tweets, tweets_y = load_data_and_labels(tweets)"
   ]
  },
  {
   "cell_type": "code",
   "execution_count": 4,
   "metadata": {},
   "outputs": [
    {
     "name": "stdout",
     "output_type": "stream",
     "text": [
      "WARNING:tensorflow:From ../src/preprocess.py:18: VocabularyProcessor.__init__ (from tensorflow.contrib.learn.python.learn.preprocessing.text) is deprecated and will be removed in a future version.\n",
      "Instructions for updating:\n",
      "Please use tensorflow/transform or tf.data.\n",
      "WARNING:tensorflow:From /Users/chi/.pyenv/versions/anaconda3-5.1.0/lib/python3.6/site-packages/tensorflow/contrib/learn/python/learn/preprocessing/text.py:154: CategoricalVocabulary.__init__ (from tensorflow.contrib.learn.python.learn.preprocessing.categorical_vocabulary) is deprecated and will be removed in a future version.\n",
      "Instructions for updating:\n",
      "Please use tensorflow/transform or tf.data.\n",
      "WARNING:tensorflow:From /Users/chi/.pyenv/versions/anaconda3-5.1.0/lib/python3.6/site-packages/tensorflow/contrib/learn/python/learn/preprocessing/text.py:170: tokenizer (from tensorflow.contrib.learn.python.learn.preprocessing.text) is deprecated and will be removed in a future version.\n",
      "Instructions for updating:\n",
      "Please use tensorflow/transform or tf.data.\n"
     ]
    }
   ],
   "source": [
    "tweets_vec, vocab_processor = vectorize_features(tweets)"
   ]
  },
  {
   "cell_type": "code",
   "execution_count": 5,
   "metadata": {},
   "outputs": [
    {
     "data": {
      "text/plain": [
       "<tensorflow.contrib.learn.python.learn.preprocessing.text.VocabularyProcessor at 0x12d5532b0>"
      ]
     },
     "execution_count": 5,
     "metadata": {},
     "output_type": "execute_result"
    }
   ],
   "source": [
    "vocab_processor"
   ]
  },
  {
   "cell_type": "code",
   "execution_count": 6,
   "metadata": {},
   "outputs": [],
   "source": [
    "vocab_dict = vocab_processor.vocabulary_._mapping"
   ]
  },
  {
   "cell_type": "code",
   "execution_count": 7,
   "metadata": {},
   "outputs": [
    {
     "name": "stderr",
     "output_type": "stream",
     "text": [
      "Embedding words by pretrained model: : 100%|██████████| 28002/28002 [00:00<00:00, 69000.69it/s]\n"
     ]
    }
   ],
   "source": [
    "pre_embedding = embedding_words_with_pretrained_model(vocab_dict)"
   ]
  },
  {
   "cell_type": "code",
   "execution_count": 8,
   "metadata": {},
   "outputs": [
    {
     "data": {
      "text/html": [
       "<div>\n",
       "<style scoped>\n",
       "    .dataframe tbody tr th:only-of-type {\n",
       "        vertical-align: middle;\n",
       "    }\n",
       "\n",
       "    .dataframe tbody tr th {\n",
       "        vertical-align: top;\n",
       "    }\n",
       "\n",
       "    .dataframe thead th {\n",
       "        text-align: right;\n",
       "    }\n",
       "</style>\n",
       "<table border=\"1\" class=\"dataframe\">\n",
       "  <thead>\n",
       "    <tr style=\"text-align: right;\">\n",
       "      <th></th>\n",
       "      <th>Unnamed: 0</th>\n",
       "      <th>id</th>\n",
       "      <th>genre</th>\n",
       "      <th>statusid</th>\n",
       "      <th>pn</th>\n",
       "      <th>p</th>\n",
       "      <th>n</th>\n",
       "      <th>neu</th>\n",
       "      <th>unk</th>\n",
       "      <th>content</th>\n",
       "      <th>words</th>\n",
       "    </tr>\n",
       "  </thead>\n",
       "  <tbody>\n",
       "    <tr>\n",
       "      <th>0</th>\n",
       "      <td>3</td>\n",
       "      <td>10028</td>\n",
       "      <td>10000</td>\n",
       "      <td>522408394871672832</td>\n",
       "      <td>0</td>\n",
       "      <td>0</td>\n",
       "      <td>0</td>\n",
       "      <td>1</td>\n",
       "      <td>0.0</td>\n",
       "      <td>ｴｸｽﾍﾟﾘｱZ3がよさそうねー\\n</td>\n",
       "      <td>ｴｸｽﾍﾟﾘｱ z 3 よい さ そう</td>\n",
       "    </tr>\n",
       "    <tr>\n",
       "      <th>1</th>\n",
       "      <td>5</td>\n",
       "      <td>10030</td>\n",
       "      <td>10000</td>\n",
       "      <td>522408539814260736</td>\n",
       "      <td>0</td>\n",
       "      <td>1</td>\n",
       "      <td>0</td>\n",
       "      <td>0</td>\n",
       "      <td>0.0</td>\n",
       "      <td>Xperia Z3の純正walkmanアプリはalac対応するみたいだね 音楽周りは本当GO...</td>\n",
       "      <td>xperia z 3 純正 walkman アプリ alac 対応 する みたい だ 音楽 ...</td>\n",
       "    </tr>\n",
       "    <tr>\n",
       "      <th>2</th>\n",
       "      <td>7</td>\n",
       "      <td>10032</td>\n",
       "      <td>10000</td>\n",
       "      <td>522409063154339840</td>\n",
       "      <td>0</td>\n",
       "      <td>0</td>\n",
       "      <td>0</td>\n",
       "      <td>1</td>\n",
       "      <td>0.0</td>\n",
       "      <td>少し時間空いちゃいましたが、Xperia Z3のカメラ機能について、ちょっとだけですけどまと...</td>\n",
       "      <td>少し 時間 空く いる ます た xperia z 3 カメラ 機能 ちょっと です まとめ...</td>\n",
       "    </tr>\n",
       "    <tr>\n",
       "      <th>3</th>\n",
       "      <td>8</td>\n",
       "      <td>10033</td>\n",
       "      <td>10000</td>\n",
       "      <td>522409073057091584</td>\n",
       "      <td>0</td>\n",
       "      <td>0</td>\n",
       "      <td>0</td>\n",
       "      <td>0</td>\n",
       "      <td>1.0</td>\n",
       "      <td>日向「研磨おたおめー。これプレゼント!!」 孤爪「こ、これは」 日向「ビビった?」 孤爪「X...</td>\n",
       "      <td>日向 研磨 た め ー これ プレゼント !!」 孤 爪 こ ビビる ?」 xperia e...</td>\n",
       "    </tr>\n",
       "    <tr>\n",
       "      <th>4</th>\n",
       "      <td>13</td>\n",
       "      <td>10038</td>\n",
       "      <td>10000</td>\n",
       "      <td>522411170183913472</td>\n",
       "      <td>0</td>\n",
       "      <td>1</td>\n",
       "      <td>0</td>\n",
       "      <td>0</td>\n",
       "      <td>0.0</td>\n",
       "      <td>#Xperia Z2にしてから、スケジュールストリートに登録する時にいちいち自分のGoogl...</td>\n",
       "      <td># xperia z 2 する スケジュール ストリート 登録 時 いちいち 自分 goog...</td>\n",
       "    </tr>\n",
       "    <tr>\n",
       "      <th>5</th>\n",
       "      <td>15</td>\n",
       "      <td>10040</td>\n",
       "      <td>10000</td>\n",
       "      <td>522411417584943104</td>\n",
       "      <td>0</td>\n",
       "      <td>0</td>\n",
       "      <td>0</td>\n",
       "      <td>0</td>\n",
       "      <td>1.0</td>\n",
       "      <td>もはやtablet Pは黒歴史なのかしら・・・？ #xperia #xperiajp\\n</td>\n",
       "      <td>もはや tablet p 黒 歴史 だ の # xperia xperiajp</td>\n",
       "    </tr>\n",
       "    <tr>\n",
       "      <th>6</th>\n",
       "      <td>18</td>\n",
       "      <td>10043</td>\n",
       "      <td>10000</td>\n",
       "      <td>522411649785806851</td>\n",
       "      <td>0</td>\n",
       "      <td>0</td>\n",
       "      <td>0</td>\n",
       "      <td>1</td>\n",
       "      <td>0.0</td>\n",
       "      <td>Xperia Z3は今月23日発売？\\n</td>\n",
       "      <td>xperia z 3 今月 23 日 発売</td>\n",
       "    </tr>\n",
       "    <tr>\n",
       "      <th>7</th>\n",
       "      <td>20</td>\n",
       "      <td>10045</td>\n",
       "      <td>10000</td>\n",
       "      <td>522412346459701250</td>\n",
       "      <td>0</td>\n",
       "      <td>0</td>\n",
       "      <td>0</td>\n",
       "      <td>1</td>\n",
       "      <td>0.0</td>\n",
       "      <td>まいった。Xperiaの画面故障でロックが外せない→データバックアップできない。ちくしょーび...</td>\n",
       "      <td>まいる た xperia 画面 故障 ロック 外せる ない データ バックアップ できる ち...</td>\n",
       "    </tr>\n",
       "    <tr>\n",
       "      <th>8</th>\n",
       "      <td>21</td>\n",
       "      <td>10046</td>\n",
       "      <td>10000</td>\n",
       "      <td>522412706792353792</td>\n",
       "      <td>0</td>\n",
       "      <td>0</td>\n",
       "      <td>0</td>\n",
       "      <td>1</td>\n",
       "      <td>0.0</td>\n",
       "      <td>親が新型Xperiaの購入を考え始めた( ◜‸‾)\\n</td>\n",
       "      <td>親 新型 xperia 購入 考える 始める た ( ◜‸‾)</td>\n",
       "    </tr>\n",
       "    <tr>\n",
       "      <th>9</th>\n",
       "      <td>23</td>\n",
       "      <td>10048</td>\n",
       "      <td>10000</td>\n",
       "      <td>522413880534765568</td>\n",
       "      <td>0</td>\n",
       "      <td>0</td>\n",
       "      <td>0</td>\n",
       "      <td>1</td>\n",
       "      <td>0.0</td>\n",
       "      <td>Xperiaほーしー #daitoanime\\n</td>\n",
       "      <td>xperia ほる ー する # daitoanime</td>\n",
       "    </tr>\n",
       "  </tbody>\n",
       "</table>\n",
       "</div>"
      ],
      "text/plain": [
       "   Unnamed: 0     id  genre            statusid  pn  p  n  neu  unk  \\\n",
       "0           3  10028  10000  522408394871672832   0  0  0    1  0.0   \n",
       "1           5  10030  10000  522408539814260736   0  1  0    0  0.0   \n",
       "2           7  10032  10000  522409063154339840   0  0  0    1  0.0   \n",
       "3           8  10033  10000  522409073057091584   0  0  0    0  1.0   \n",
       "4          13  10038  10000  522411170183913472   0  1  0    0  0.0   \n",
       "5          15  10040  10000  522411417584943104   0  0  0    0  1.0   \n",
       "6          18  10043  10000  522411649785806851   0  0  0    1  0.0   \n",
       "7          20  10045  10000  522412346459701250   0  0  0    1  0.0   \n",
       "8          21  10046  10000  522412706792353792   0  0  0    1  0.0   \n",
       "9          23  10048  10000  522413880534765568   0  0  0    1  0.0   \n",
       "\n",
       "                                             content  \\\n",
       "0                                 ｴｸｽﾍﾟﾘｱZ3がよさそうねー\\n   \n",
       "1  Xperia Z3の純正walkmanアプリはalac対応するみたいだね 音楽周りは本当GO...   \n",
       "2  少し時間空いちゃいましたが、Xperia Z3のカメラ機能について、ちょっとだけですけどまと...   \n",
       "3  日向「研磨おたおめー。これプレゼント!!」 孤爪「こ、これは」 日向「ビビった?」 孤爪「X...   \n",
       "4  #Xperia Z2にしてから、スケジュールストリートに登録する時にいちいち自分のGoogl...   \n",
       "5       もはやtablet Pは黒歴史なのかしら・・・？ #xperia #xperiajp\\n   \n",
       "6                               Xperia Z3は今月23日発売？\\n   \n",
       "7  まいった。Xperiaの画面故障でロックが外せない→データバックアップできない。ちくしょーび...   \n",
       "8                        親が新型Xperiaの購入を考え始めた( ◜‸‾)\\n   \n",
       "9                           Xperiaほーしー #daitoanime\\n   \n",
       "\n",
       "                                               words  \n",
       "0                                ｴｸｽﾍﾟﾘｱ z 3 よい さ そう  \n",
       "1  xperia z 3 純正 walkman アプリ alac 対応 する みたい だ 音楽 ...  \n",
       "2  少し 時間 空く いる ます た xperia z 3 カメラ 機能 ちょっと です まとめ...  \n",
       "3  日向 研磨 た め ー これ プレゼント !!」 孤 爪 こ ビビる ?」 xperia e...  \n",
       "4  # xperia z 2 する スケジュール ストリート 登録 時 いちいち 自分 goog...  \n",
       "5            もはや tablet p 黒 歴史 だ の # xperia xperiajp  \n",
       "6                              xperia z 3 今月 23 日 発売  \n",
       "7  まいる た xperia 画面 故障 ロック 外せる ない データ バックアップ できる ち...  \n",
       "8                    親 新型 xperia 購入 考える 始める た ( ◜‸‾)  \n",
       "9                        xperia ほる ー する # daitoanime  "
      ]
     },
     "execution_count": 8,
     "metadata": {},
     "output_type": "execute_result"
    }
   ],
   "source": [
    "tweets.head(10)"
   ]
  },
  {
   "cell_type": "code",
   "execution_count": 9,
   "metadata": {},
   "outputs": [
    {
     "data": {
      "text/plain": [
       "array([1, 2, 3, 4, 5, 6, 0, 0, 0, 0, 0, 0, 0, 0, 0, 0, 0, 0, 0, 0, 0, 0,\n",
       "       0, 0, 0, 0, 0, 0, 0, 0, 0, 0, 0, 0, 0, 0, 0, 0, 0, 0, 0, 0, 0, 0,\n",
       "       0, 0, 0, 0, 0, 0, 0, 0, 0, 0])"
      ]
     },
     "execution_count": 9,
     "metadata": {},
     "output_type": "execute_result"
    }
   ],
   "source": [
    "tweets_vec[0]"
   ]
  },
  {
   "cell_type": "code",
   "execution_count": 10,
   "metadata": {},
   "outputs": [
    {
     "data": {
      "text/plain": [
       "[0, 0, 0, 1, 0.0]"
      ]
     },
     "execution_count": 10,
     "metadata": {},
     "output_type": "execute_result"
    }
   ],
   "source": [
    " tweets_y[0]"
   ]
  },
  {
   "cell_type": "code",
   "execution_count": 11,
   "metadata": {
    "scrolled": true
   },
   "outputs": [
    {
     "data": {
      "text/plain": [
       "(51088, 51088, 51088)"
      ]
     },
     "execution_count": 11,
     "metadata": {},
     "output_type": "execute_result"
    }
   ],
   "source": [
    "len(tweets_vec), len(tweets), len(tweets_y)"
   ]
  },
  {
   "cell_type": "code",
   "execution_count": 12,
   "metadata": {},
   "outputs": [],
   "source": [
    "tweetid_vec = {}\n",
    "tweetid_y = {}\n",
    "for idx, tweet in tweets.iterrows():\n",
    "    tweetid = tweet['id']\n",
    "    tweetid_vec[tweetid] = tweets_vec[idx]\n",
    "    tweetid_y[tweetid] = tweets_y[idx]"
   ]
  },
  {
   "cell_type": "markdown",
   "metadata": {},
   "source": [
    "# split data"
   ]
  },
  {
   "cell_type": "code",
   "execution_count": 13,
   "metadata": {},
   "outputs": [],
   "source": [
    "pn = tweets[tweets['pn']==1]\n",
    "p = tweets[tweets['p']==1]\n",
    "n = tweets[tweets['n']==1]\n",
    "neu = tweets[tweets['neu']==1]\n",
    "unk = tweets[tweets['unk']==1]"
   ]
  },
  {
   "cell_type": "code",
   "execution_count": 14,
   "metadata": {},
   "outputs": [
    {
     "data": {
      "text/plain": [
       "(262, 3028, 5174, 31492, 11132)"
      ]
     },
     "execution_count": 14,
     "metadata": {},
     "output_type": "execute_result"
    }
   ],
   "source": [
    "len(pn), len(p), len(n), len(neu), len(unk)"
   ]
  },
  {
   "cell_type": "code",
   "execution_count": 15,
   "metadata": {},
   "outputs": [],
   "source": [
    "train_pn = pn.sample(frac=0.8)\n",
    "test_pn = pn.drop(train_pn.index)\n",
    "\n",
    "train_p = p.sample(frac=0.8)\n",
    "test_p = p.drop(train_p.index)\n",
    "\n",
    "train_n = n.sample(frac=0.8)\n",
    "test_n = n.drop(train_n.index)\n",
    "\n",
    "train_neu = neu.sample(frac=0.8)\n",
    "test_neu = neu.drop(train_neu.index)\n",
    "\n",
    "train_unk = unk.sample(frac=0.8)\n",
    "test_unk = unk.drop(train_unk.index)"
   ]
  },
  {
   "cell_type": "code",
   "execution_count": 16,
   "metadata": {},
   "outputs": [
    {
     "data": {
      "text/plain": [
       "(8906, 2226)"
      ]
     },
     "execution_count": 16,
     "metadata": {},
     "output_type": "execute_result"
    }
   ],
   "source": [
    "len(train_unk), len(test_unk)"
   ]
  },
  {
   "cell_type": "code",
   "execution_count": 17,
   "metadata": {},
   "outputs": [],
   "source": [
    "train = train_pn\n",
    "train = train.append(train_p)\n",
    "train = train.append(train_n)\n",
    "train = train.append(train_neu)\n",
    "train = train.append(train_unk)"
   ]
  },
  {
   "cell_type": "code",
   "execution_count": 18,
   "metadata": {},
   "outputs": [],
   "source": [
    "test = test_pn\n",
    "test = test.append(test_p)\n",
    "test = test.append(test_n)\n",
    "test = test.append(test_neu)\n",
    "test = test.append(test_unk)"
   ]
  },
  {
   "cell_type": "code",
   "execution_count": 19,
   "metadata": {},
   "outputs": [
    {
     "data": {
      "text/plain": [
       "(40871, 10217, 51088)"
      ]
     },
     "execution_count": 19,
     "metadata": {},
     "output_type": "execute_result"
    }
   ],
   "source": [
    "len(train), len(test), len(train)+len(test)"
   ]
  },
  {
   "cell_type": "code",
   "execution_count": 20,
   "metadata": {},
   "outputs": [],
   "source": [
    "train_vec = []\n",
    "train_y = []\n",
    "for _, item in train.iterrows():\n",
    "    tweet_id = item['id']\n",
    "    train_vec.append(tweetid_vec[tweet_id])\n",
    "    train_y.append(tweetid_y[tweet_id])"
   ]
  },
  {
   "cell_type": "code",
   "execution_count": 21,
   "metadata": {},
   "outputs": [],
   "source": [
    "test_vec = []\n",
    "test_y = []\n",
    "for _, item in test.iterrows():\n",
    "    tweet_id = item['id']\n",
    "    test_vec.append(tweetid_vec[tweet_id])\n",
    "    test_y.append(tweetid_y[tweet_id])"
   ]
  },
  {
   "cell_type": "code",
   "execution_count": 22,
   "metadata": {},
   "outputs": [
    {
     "data": {
      "text/plain": [
       "(40871, 40871, 10217, 10217)"
      ]
     },
     "execution_count": 22,
     "metadata": {},
     "output_type": "execute_result"
    }
   ],
   "source": [
    "len(train_vec), len(train_y), len(test_vec), len(test_y)"
   ]
  },
  {
   "cell_type": "code",
   "execution_count": 23,
   "metadata": {},
   "outputs": [],
   "source": [
    "pickle.dump(train, open('../data/train.pkl', 'wb'))\n",
    "pickle.dump(train_vec, open('../data/train_vec.pkl', 'wb'))\n",
    "pickle.dump(train_y, open('../data/train_y.pkl', 'wb'))\n",
    "pickle.dump(test, open('../data/test.pkl', 'wb'))\n",
    "pickle.dump(test_vec, open('../data/test_vec.pkl', 'wb'))\n",
    "pickle.dump(test_y, open('../data/test_y.pkl', 'wb'))\n",
    "pickle.dump(pre_embedding, open('../data/pre_embedding.pkl', 'wb'))\n",
    "pickle.dump(vocab_processor, open('../data/vocab_processor.pkl', 'wb'))\n",
    "pickle.dump(vocab_dict, open('../data/vocab_dict.pkl', 'wb'))"
   ]
  }
 ],
 "metadata": {
  "kernelspec": {
   "display_name": "Python 3",
   "language": "python",
   "name": "python3"
  },
  "language_info": {
   "codemirror_mode": {
    "name": "ipython",
    "version": 3
   },
   "file_extension": ".py",
   "mimetype": "text/x-python",
   "name": "python",
   "nbconvert_exporter": "python",
   "pygments_lexer": "ipython3",
   "version": "3.6.4"
  }
 },
 "nbformat": 4,
 "nbformat_minor": 2
}
